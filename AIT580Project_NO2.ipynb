{
 "cells": [
  {
   "cell_type": "code",
   "execution_count": 1,
   "metadata": {},
   "outputs": [],
   "source": [
    "import pandas as pd\n",
    "import numpy as np\n",
    "import matplotlib.pyplot as plt\n",
    "from matplotlib import cm\n"
   ]
  },
  {
   "cell_type": "markdown",
   "metadata": {},
   "source": [
    "#### Uploading NO2 Dataset"
   ]
  },
  {
   "cell_type": "code",
   "execution_count": 2,
   "metadata": {},
   "outputs": [],
   "source": [
    "NO2=pd.read_excel('NO2_master.xlsx')"
   ]
  },
  {
   "cell_type": "code",
   "execution_count": 3,
   "metadata": {},
   "outputs": [
    {
     "data": {
      "text/html": [
       "<div>\n",
       "<style scoped>\n",
       "    .dataframe tbody tr th:only-of-type {\n",
       "        vertical-align: middle;\n",
       "    }\n",
       "\n",
       "    .dataframe tbody tr th {\n",
       "        vertical-align: top;\n",
       "    }\n",
       "\n",
       "    .dataframe thead th {\n",
       "        text-align: right;\n",
       "    }\n",
       "</style>\n",
       "<table border=\"1\" class=\"dataframe\">\n",
       "  <thead>\n",
       "    <tr style=\"text-align: right;\">\n",
       "      <th></th>\n",
       "      <th>Date</th>\n",
       "      <th>Site ID</th>\n",
       "      <th>Daily Max 1-hour NO2 Concentration</th>\n",
       "      <th>UNITS</th>\n",
       "      <th>DAILY_AQI_VALUE</th>\n",
       "      <th>DAILY_OBS_COUNT</th>\n",
       "      <th>PERCENT_COMPLETE</th>\n",
       "      <th>AQS_PARAMETER_DESC</th>\n",
       "      <th>CBSA_NAME</th>\n",
       "      <th>COUNTY</th>\n",
       "      <th>SITE_LATITUDE</th>\n",
       "      <th>SITE_LONGITUDE</th>\n",
       "    </tr>\n",
       "  </thead>\n",
       "  <tbody>\n",
       "    <tr>\n",
       "      <th>0</th>\n",
       "      <td>2015-01-01</td>\n",
       "      <td>510130020</td>\n",
       "      <td>37.3</td>\n",
       "      <td>ppb</td>\n",
       "      <td>35</td>\n",
       "      <td>24</td>\n",
       "      <td>100</td>\n",
       "      <td>Nitrogen dioxide (NO2)</td>\n",
       "      <td>Washington-Arlington-Alexandria, DC-VA-MD-WV</td>\n",
       "      <td>Arlington</td>\n",
       "      <td>38.8577</td>\n",
       "      <td>-77.05922</td>\n",
       "    </tr>\n",
       "    <tr>\n",
       "      <th>1</th>\n",
       "      <td>2015-01-02</td>\n",
       "      <td>510130020</td>\n",
       "      <td>39.4</td>\n",
       "      <td>ppb</td>\n",
       "      <td>37</td>\n",
       "      <td>24</td>\n",
       "      <td>100</td>\n",
       "      <td>Nitrogen dioxide (NO2)</td>\n",
       "      <td>Washington-Arlington-Alexandria, DC-VA-MD-WV</td>\n",
       "      <td>Arlington</td>\n",
       "      <td>38.8577</td>\n",
       "      <td>-77.05922</td>\n",
       "    </tr>\n",
       "    <tr>\n",
       "      <th>2</th>\n",
       "      <td>2015-01-03</td>\n",
       "      <td>510130020</td>\n",
       "      <td>38.2</td>\n",
       "      <td>ppb</td>\n",
       "      <td>36</td>\n",
       "      <td>24</td>\n",
       "      <td>100</td>\n",
       "      <td>Nitrogen dioxide (NO2)</td>\n",
       "      <td>Washington-Arlington-Alexandria, DC-VA-MD-WV</td>\n",
       "      <td>Arlington</td>\n",
       "      <td>38.8577</td>\n",
       "      <td>-77.05922</td>\n",
       "    </tr>\n",
       "    <tr>\n",
       "      <th>3</th>\n",
       "      <td>2015-01-04</td>\n",
       "      <td>510130020</td>\n",
       "      <td>22.9</td>\n",
       "      <td>ppb</td>\n",
       "      <td>21</td>\n",
       "      <td>24</td>\n",
       "      <td>100</td>\n",
       "      <td>Nitrogen dioxide (NO2)</td>\n",
       "      <td>Washington-Arlington-Alexandria, DC-VA-MD-WV</td>\n",
       "      <td>Arlington</td>\n",
       "      <td>38.8577</td>\n",
       "      <td>-77.05922</td>\n",
       "    </tr>\n",
       "    <tr>\n",
       "      <th>4</th>\n",
       "      <td>2015-01-05</td>\n",
       "      <td>510130020</td>\n",
       "      <td>8.2</td>\n",
       "      <td>ppb</td>\n",
       "      <td>8</td>\n",
       "      <td>23</td>\n",
       "      <td>96</td>\n",
       "      <td>Nitrogen dioxide (NO2)</td>\n",
       "      <td>Washington-Arlington-Alexandria, DC-VA-MD-WV</td>\n",
       "      <td>Arlington</td>\n",
       "      <td>38.8577</td>\n",
       "      <td>-77.05922</td>\n",
       "    </tr>\n",
       "  </tbody>\n",
       "</table>\n",
       "</div>"
      ],
      "text/plain": [
       "        Date    Site ID  Daily Max 1-hour NO2 Concentration UNITS  \\\n",
       "0 2015-01-01  510130020                                37.3   ppb   \n",
       "1 2015-01-02  510130020                                39.4   ppb   \n",
       "2 2015-01-03  510130020                                38.2   ppb   \n",
       "3 2015-01-04  510130020                                22.9   ppb   \n",
       "4 2015-01-05  510130020                                 8.2   ppb   \n",
       "\n",
       "   DAILY_AQI_VALUE  DAILY_OBS_COUNT  PERCENT_COMPLETE      AQS_PARAMETER_DESC  \\\n",
       "0               35               24               100  Nitrogen dioxide (NO2)   \n",
       "1               37               24               100  Nitrogen dioxide (NO2)   \n",
       "2               36               24               100  Nitrogen dioxide (NO2)   \n",
       "3               21               24               100  Nitrogen dioxide (NO2)   \n",
       "4                8               23                96  Nitrogen dioxide (NO2)   \n",
       "\n",
       "                                      CBSA_NAME     COUNTY  SITE_LATITUDE  \\\n",
       "0  Washington-Arlington-Alexandria, DC-VA-MD-WV  Arlington        38.8577   \n",
       "1  Washington-Arlington-Alexandria, DC-VA-MD-WV  Arlington        38.8577   \n",
       "2  Washington-Arlington-Alexandria, DC-VA-MD-WV  Arlington        38.8577   \n",
       "3  Washington-Arlington-Alexandria, DC-VA-MD-WV  Arlington        38.8577   \n",
       "4  Washington-Arlington-Alexandria, DC-VA-MD-WV  Arlington        38.8577   \n",
       "\n",
       "   SITE_LONGITUDE  \n",
       "0       -77.05922  \n",
       "1       -77.05922  \n",
       "2       -77.05922  \n",
       "3       -77.05922  \n",
       "4       -77.05922  "
      ]
     },
     "execution_count": 3,
     "metadata": {},
     "output_type": "execute_result"
    }
   ],
   "source": [
    "NO2.head()"
   ]
  },
  {
   "cell_type": "markdown",
   "metadata": {},
   "source": [
    "#### Checking for duplicates and unnecessary whitespaces"
   ]
  },
  {
   "cell_type": "code",
   "execution_count": 4,
   "metadata": {},
   "outputs": [],
   "source": [
    "NO2.columns=NO2.columns.str.strip()"
   ]
  },
  {
   "cell_type": "code",
   "execution_count": 5,
   "metadata": {},
   "outputs": [
    {
     "data": {
      "text/html": [
       "<div>\n",
       "<style scoped>\n",
       "    .dataframe tbody tr th:only-of-type {\n",
       "        vertical-align: middle;\n",
       "    }\n",
       "\n",
       "    .dataframe tbody tr th {\n",
       "        vertical-align: top;\n",
       "    }\n",
       "\n",
       "    .dataframe thead th {\n",
       "        text-align: right;\n",
       "    }\n",
       "</style>\n",
       "<table border=\"1\" class=\"dataframe\">\n",
       "  <thead>\n",
       "    <tr style=\"text-align: right;\">\n",
       "      <th></th>\n",
       "      <th>Date</th>\n",
       "      <th>Site ID</th>\n",
       "      <th>Daily Max 1-hour NO2 Concentration</th>\n",
       "      <th>UNITS</th>\n",
       "      <th>DAILY_AQI_VALUE</th>\n",
       "      <th>DAILY_OBS_COUNT</th>\n",
       "      <th>PERCENT_COMPLETE</th>\n",
       "      <th>AQS_PARAMETER_DESC</th>\n",
       "      <th>CBSA_NAME</th>\n",
       "      <th>COUNTY</th>\n",
       "      <th>SITE_LATITUDE</th>\n",
       "      <th>SITE_LONGITUDE</th>\n",
       "    </tr>\n",
       "  </thead>\n",
       "  <tbody>\n",
       "  </tbody>\n",
       "</table>\n",
       "</div>"
      ],
      "text/plain": [
       "Empty DataFrame\n",
       "Columns: [Date, Site ID, Daily Max 1-hour NO2 Concentration, UNITS, DAILY_AQI_VALUE, DAILY_OBS_COUNT, PERCENT_COMPLETE, AQS_PARAMETER_DESC, CBSA_NAME, COUNTY, SITE_LATITUDE, SITE_LONGITUDE]\n",
       "Index: []"
      ]
     },
     "execution_count": 5,
     "metadata": {},
     "output_type": "execute_result"
    }
   ],
   "source": [
    "NO2[NO2.duplicated()]"
   ]
  },
  {
   "cell_type": "markdown",
   "metadata": {},
   "source": [
    "#### Checking for null values"
   ]
  },
  {
   "cell_type": "code",
   "execution_count": 6,
   "metadata": {},
   "outputs": [
    {
     "name": "stdout",
     "output_type": "stream",
     "text": [
      "Number of instances = 23212\n",
      "Number of attributes = 12\n",
      "------------------------------\n"
     ]
    },
    {
     "data": {
      "text/plain": [
       "Date                                  0\n",
       "Site ID                               0\n",
       "Daily Max 1-hour NO2 Concentration    0\n",
       "UNITS                                 0\n",
       "DAILY_AQI_VALUE                       0\n",
       "DAILY_OBS_COUNT                       0\n",
       "PERCENT_COMPLETE                      0\n",
       "AQS_PARAMETER_DESC                    0\n",
       "CBSA_NAME                             0\n",
       "COUNTY                                0\n",
       "SITE_LATITUDE                         0\n",
       "SITE_LONGITUDE                        0\n",
       "dtype: int64"
      ]
     },
     "execution_count": 6,
     "metadata": {},
     "output_type": "execute_result"
    }
   ],
   "source": [
    "print('Number of instances = %d\\nNumber of attributes = %d' % (NO2.shape[0], NO2.shape[1]))\n",
    "print('------------------------------')\n",
    "NO2.isnull().sum()"
   ]
  },
  {
   "cell_type": "markdown",
   "metadata": {},
   "source": [
    "#### Checking for missing values/records"
   ]
  },
  {
   "cell_type": "code",
   "execution_count": 7,
   "metadata": {},
   "outputs": [
    {
     "data": {
      "text/html": [
       "<div>\n",
       "<style scoped>\n",
       "    .dataframe tbody tr th:only-of-type {\n",
       "        vertical-align: middle;\n",
       "    }\n",
       "\n",
       "    .dataframe tbody tr th {\n",
       "        vertical-align: top;\n",
       "    }\n",
       "\n",
       "    .dataframe thead th {\n",
       "        text-align: right;\n",
       "    }\n",
       "</style>\n",
       "<table border=\"1\" class=\"dataframe\">\n",
       "  <thead>\n",
       "    <tr style=\"text-align: right;\">\n",
       "      <th></th>\n",
       "      <th>Date</th>\n",
       "      <th>DAILY_AQI_VALUE</th>\n",
       "    </tr>\n",
       "    <tr>\n",
       "      <th>COUNTY</th>\n",
       "      <th></th>\n",
       "      <th></th>\n",
       "    </tr>\n",
       "  </thead>\n",
       "  <tbody>\n",
       "    <tr>\n",
       "      <th>Alexandria City</th>\n",
       "      <td>363</td>\n",
       "      <td>363</td>\n",
       "    </tr>\n",
       "    <tr>\n",
       "      <th>Arlington</th>\n",
       "      <td>2147</td>\n",
       "      <td>2147</td>\n",
       "    </tr>\n",
       "    <tr>\n",
       "      <th>Charles</th>\n",
       "      <td>2067</td>\n",
       "      <td>2067</td>\n",
       "    </tr>\n",
       "    <tr>\n",
       "      <th>Fairfax</th>\n",
       "      <td>1719</td>\n",
       "      <td>1719</td>\n",
       "    </tr>\n",
       "    <tr>\n",
       "      <th>Hampton City</th>\n",
       "      <td>2161</td>\n",
       "      <td>2161</td>\n",
       "    </tr>\n",
       "    <tr>\n",
       "      <th>Henrico</th>\n",
       "      <td>1982</td>\n",
       "      <td>1982</td>\n",
       "    </tr>\n",
       "    <tr>\n",
       "      <th>Loudoun</th>\n",
       "      <td>2066</td>\n",
       "      <td>2066</td>\n",
       "    </tr>\n",
       "    <tr>\n",
       "      <th>Norfolk City</th>\n",
       "      <td>2138</td>\n",
       "      <td>2138</td>\n",
       "    </tr>\n",
       "    <tr>\n",
       "      <th>Prince William</th>\n",
       "      <td>2153</td>\n",
       "      <td>2153</td>\n",
       "    </tr>\n",
       "    <tr>\n",
       "      <th>Richmond City</th>\n",
       "      <td>2114</td>\n",
       "      <td>2114</td>\n",
       "    </tr>\n",
       "    <tr>\n",
       "      <th>Roanoke</th>\n",
       "      <td>2161</td>\n",
       "      <td>2161</td>\n",
       "    </tr>\n",
       "    <tr>\n",
       "      <th>Rockingham</th>\n",
       "      <td>2141</td>\n",
       "      <td>2141</td>\n",
       "    </tr>\n",
       "  </tbody>\n",
       "</table>\n",
       "</div>"
      ],
      "text/plain": [
       "                 Date  DAILY_AQI_VALUE\n",
       "COUNTY                                \n",
       "Alexandria City   363              363\n",
       "Arlington        2147             2147\n",
       "Charles          2067             2067\n",
       "Fairfax          1719             1719\n",
       "Hampton City     2161             2161\n",
       "Henrico          1982             1982\n",
       "Loudoun          2066             2066\n",
       "Norfolk City     2138             2138\n",
       "Prince William   2153             2153\n",
       "Richmond City    2114             2114\n",
       "Roanoke          2161             2161\n",
       "Rockingham       2141             2141"
      ]
     },
     "execution_count": 7,
     "metadata": {},
     "output_type": "execute_result"
    }
   ],
   "source": [
    "NO2[['Date','COUNTY','DAILY_AQI_VALUE']].groupby('COUNTY').count()"
   ]
  },
  {
   "cell_type": "markdown",
   "metadata": {},
   "source": [
    "Dropping Alexandria County"
   ]
  },
  {
   "cell_type": "code",
   "execution_count": 8,
   "metadata": {},
   "outputs": [],
   "source": [
    "NO2=NO2.drop(NO2[NO2.COUNTY=='Alexandria City'].index)"
   ]
  },
  {
   "cell_type": "markdown",
   "metadata": {},
   "source": [
    "Checking by year"
   ]
  },
  {
   "cell_type": "code",
   "execution_count": 9,
   "metadata": {},
   "outputs": [
    {
     "data": {
      "text/html": [
       "<div>\n",
       "<style scoped>\n",
       "    .dataframe tbody tr th:only-of-type {\n",
       "        vertical-align: middle;\n",
       "    }\n",
       "\n",
       "    .dataframe tbody tr th {\n",
       "        vertical-align: top;\n",
       "    }\n",
       "\n",
       "    .dataframe thead th {\n",
       "        text-align: right;\n",
       "    }\n",
       "</style>\n",
       "<table border=\"1\" class=\"dataframe\">\n",
       "  <thead>\n",
       "    <tr style=\"text-align: right;\">\n",
       "      <th></th>\n",
       "      <th>DAILY_AQI_VALUE</th>\n",
       "    </tr>\n",
       "    <tr>\n",
       "      <th>Date</th>\n",
       "      <th></th>\n",
       "    </tr>\n",
       "  </thead>\n",
       "  <tbody>\n",
       "    <tr>\n",
       "      <th>2015</th>\n",
       "      <td>3473</td>\n",
       "    </tr>\n",
       "    <tr>\n",
       "      <th>2016</th>\n",
       "      <td>3802</td>\n",
       "    </tr>\n",
       "    <tr>\n",
       "      <th>2017</th>\n",
       "      <td>3889</td>\n",
       "    </tr>\n",
       "    <tr>\n",
       "      <th>2018</th>\n",
       "      <td>3910</td>\n",
       "    </tr>\n",
       "    <tr>\n",
       "      <th>2019</th>\n",
       "      <td>3828</td>\n",
       "    </tr>\n",
       "    <tr>\n",
       "      <th>2020</th>\n",
       "      <td>3947</td>\n",
       "    </tr>\n",
       "  </tbody>\n",
       "</table>\n",
       "</div>"
      ],
      "text/plain": [
       "      DAILY_AQI_VALUE\n",
       "Date                 \n",
       "2015             3473\n",
       "2016             3802\n",
       "2017             3889\n",
       "2018             3910\n",
       "2019             3828\n",
       "2020             3947"
      ]
     },
     "execution_count": 9,
     "metadata": {},
     "output_type": "execute_result"
    }
   ],
   "source": [
    "NO2[['DAILY_AQI_VALUE']].groupby(NO2.Date.dt.year).count()"
   ]
  },
  {
   "cell_type": "markdown",
   "metadata": {},
   "source": [
    "2015 to 2016"
   ]
  },
  {
   "cell_type": "code",
   "execution_count": 10,
   "metadata": {},
   "outputs": [
    {
     "name": "stdout",
     "output_type": "stream",
     "text": [
      "Dates missing in Arlington are: 17\n",
      "Dates missing in Charles are: 44\n",
      "Dates missing in Henrico are: 63\n",
      "Dates missing in Loudoun are: 80\n",
      "Dates missing in Prince William are: 1\n",
      "Dates missing in Roanoke are: 25\n",
      "Dates missing in Rockingham are: 8\n",
      "Dates missing in Hampton City are: 17\n",
      "Dates missing in Norfolk City are: 17\n",
      "Dates missing in Richmond City are: 31\n",
      "Dates missing in Fairfax are: 463\n"
     ]
    }
   ],
   "source": [
    "for i in NO2.COUNTY.unique():\n",
    "  missed=pd.date_range('2015-01-01','2016-12-31' ).difference(NO2[NO2.COUNTY==i].Date)\n",
    "  print('Dates missing in ' + i + ' are:',len(missed))"
   ]
  },
  {
   "cell_type": "markdown",
   "metadata": {},
   "source": [
    "2017 - 2019"
   ]
  },
  {
   "cell_type": "code",
   "execution_count": 11,
   "metadata": {},
   "outputs": [
    {
     "name": "stdout",
     "output_type": "stream",
     "text": [
      "Dates missing in Arlington are: 25\n",
      "Dates missing in Charles are: 77\n",
      "Dates missing in Henrico are: 130\n",
      "Dates missing in Loudoun are: 40\n",
      "Dates missing in Prince William are: 34\n",
      "Dates missing in Roanoke are: 3\n",
      "Dates missing in Rockingham are: 31\n",
      "Dates missing in Hampton City are: 7\n",
      "Dates missing in Norfolk City are: 33\n",
      "Dates missing in Richmond City are: 30\n",
      "Dates missing in Fairfax are: 8\n"
     ]
    }
   ],
   "source": [
    "for i in NO2.COUNTY.unique():\n",
    "  missed=pd.date_range('2017-01-01','2019-12-31' ).difference(NO2[NO2.COUNTY==i].Date)\n",
    "  print('Dates missing in ' + i + ' are:',len(missed))"
   ]
  },
  {
   "cell_type": "markdown",
   "metadata": {},
   "source": [
    "2015 and 2016 significantly have more missing data"
   ]
  },
  {
   "cell_type": "markdown",
   "metadata": {},
   "source": [
    "Fairfax has almost no data recorded prior to 2017,Loudon is missing about 11 percent of data between 2015 to 2016"
   ]
  },
  {
   "cell_type": "markdown",
   "metadata": {},
   "source": [
    "Dropping 2015 and 2016"
   ]
  },
  {
   "cell_type": "code",
   "execution_count": 12,
   "metadata": {},
   "outputs": [],
   "source": [
    "NO2=NO2.drop(NO2[NO2.Date.dt.year == 2015].index)\n",
    "NO2=NO2.drop(NO2[NO2.Date.dt.year == 2016].index)"
   ]
  },
  {
   "cell_type": "markdown",
   "metadata": {},
   "source": [
    "Henrico and Charles have notably more missing dates in 2017-2019"
   ]
  },
  {
   "cell_type": "code",
   "execution_count": 13,
   "metadata": {},
   "outputs": [
    {
     "data": {
      "text/plain": [
       "DatetimeIndex(['2018-01-25', '2018-01-26', '2018-07-11', '2018-07-12',\n",
       "               '2018-08-18', '2018-08-19', '2018-08-20', '2018-08-21',\n",
       "               '2018-08-22', '2018-08-23', '2018-08-24', '2018-08-25',\n",
       "               '2018-08-26', '2018-08-27', '2018-08-28', '2018-10-29',\n",
       "               '2018-10-30', '2018-10-31', '2018-11-01', '2018-11-02',\n",
       "               '2018-11-03', '2018-11-04', '2018-11-05', '2018-11-06',\n",
       "               '2018-11-07', '2018-11-08', '2018-12-18', '2019-03-27',\n",
       "               '2019-06-05', '2019-08-01', '2019-08-20', '2019-08-21',\n",
       "               '2019-08-22', '2019-08-23', '2019-08-24', '2019-08-25',\n",
       "               '2019-08-26', '2019-08-27', '2019-08-28', '2019-08-29',\n",
       "               '2019-08-30', '2019-08-31', '2019-09-01', '2019-09-02',\n",
       "               '2019-09-03', '2019-09-04', '2019-09-05', '2019-09-06',\n",
       "               '2019-09-07', '2019-09-08', '2019-09-09', '2019-09-10',\n",
       "               '2019-09-26', '2019-10-31', '2019-11-01'],\n",
       "              dtype='datetime64[ns]', freq=None)"
      ]
     },
     "execution_count": 13,
     "metadata": {},
     "output_type": "execute_result"
    }
   ],
   "source": [
    "pd.date_range('2018-01-01','2019-12-31' ).difference(NO2[NO2.COUNTY=='Henrico'].Date)"
   ]
  },
  {
   "cell_type": "code",
   "execution_count": 14,
   "metadata": {},
   "outputs": [
    {
     "data": {
      "text/plain": [
       "DatetimeIndex(['2017-05-08', '2017-06-14', '2017-06-15', '2017-10-25',\n",
       "               '2017-10-26', '2017-10-27', '2017-10-28', '2017-10-29',\n",
       "               '2017-10-30', '2018-01-23', '2018-03-02', '2018-03-03',\n",
       "               '2018-03-04', '2018-03-05', '2018-04-26', '2018-08-07',\n",
       "               '2018-08-08', '2018-08-09', '2018-10-12', '2018-10-13',\n",
       "               '2018-10-14', '2018-10-15', '2018-11-14', '2018-12-09',\n",
       "               '2019-06-20', '2019-07-08', '2019-07-09', '2019-07-10',\n",
       "               '2019-07-11', '2019-07-12', '2019-07-13', '2019-07-14',\n",
       "               '2019-07-15', '2019-07-16', '2019-07-17', '2019-07-18',\n",
       "               '2019-07-19', '2019-07-20', '2019-07-21', '2019-07-22',\n",
       "               '2019-07-23', '2019-07-24', '2019-07-25', '2019-07-26',\n",
       "               '2019-07-27', '2019-07-28', '2019-07-29', '2019-07-30',\n",
       "               '2019-07-31', '2019-08-01', '2019-08-02', '2019-08-03',\n",
       "               '2019-08-04', '2019-08-05', '2019-08-06', '2019-08-07',\n",
       "               '2019-08-08', '2019-08-09', '2019-08-10', '2019-08-11',\n",
       "               '2019-08-12', '2019-08-13', '2019-08-14', '2019-08-15',\n",
       "               '2019-08-16', '2019-08-17', '2019-08-18', '2019-08-19',\n",
       "               '2019-08-20', '2019-08-21', '2019-08-22', '2019-08-23',\n",
       "               '2019-08-24', '2019-08-25', '2019-08-26', '2019-08-27',\n",
       "               '2019-08-28'],\n",
       "              dtype='datetime64[ns]', freq=None)"
      ]
     },
     "execution_count": 14,
     "metadata": {},
     "output_type": "execute_result"
    }
   ],
   "source": [
    "pd.date_range('2017-01-01','2019-12-31' ).difference(NO2[NO2.COUNTY=='Charles'].Date)"
   ]
  },
  {
   "cell_type": "markdown",
   "metadata": {},
   "source": [
    "Henrico and Charles are missing most dates for the second half of the year"
   ]
  },
  {
   "cell_type": "markdown",
   "metadata": {},
   "source": [
    "Anyway we are still going to only need Jan to Jun for our study, so we can drop the rest of the months."
   ]
  },
  {
   "cell_type": "code",
   "execution_count": 15,
   "metadata": {},
   "outputs": [],
   "source": [
    "for i in range (7,13):\n",
    " NO2=NO2.drop(NO2[NO2.Date.dt.month == i].index)"
   ]
  },
  {
   "cell_type": "markdown",
   "metadata": {},
   "source": [
    "Checking for 2020"
   ]
  },
  {
   "cell_type": "code",
   "execution_count": 16,
   "metadata": {},
   "outputs": [
    {
     "name": "stdout",
     "output_type": "stream",
     "text": [
      "Dates missing in Arlington are: 3\n",
      "Dates missing in Charles are: 3\n",
      "Dates missing in Fairfax are: 2\n",
      "Dates missing in Henrico are: 10\n",
      "Dates missing in Loudoun are: 4\n",
      "Dates missing in Prince William are: 0\n",
      "Dates missing in Roanoke are: 0\n",
      "Dates missing in Rockingham are: 8\n",
      "Dates missing in Hampton City are: 5\n",
      "Dates missing in Norfolk City are: 2\n",
      "Dates missing in Richmond City are: 7\n"
     ]
    }
   ],
   "source": [
    "for i in NO2.COUNTY.unique():\n",
    "  missed=pd.date_range('2020-01-01','2020-06-30' ).difference(NO2[NO2.COUNTY==i].Date)\n",
    "  print('Dates missing in ' + i + ' are:',len(missed))"
   ]
  },
  {
   "cell_type": "markdown",
   "metadata": {},
   "source": [
    "Data is considerably complete for year 2020"
   ]
  },
  {
   "cell_type": "code",
   "execution_count": 17,
   "metadata": {},
   "outputs": [
    {
     "data": {
      "text/html": [
       "<div>\n",
       "<style scoped>\n",
       "    .dataframe tbody tr th:only-of-type {\n",
       "        vertical-align: middle;\n",
       "    }\n",
       "\n",
       "    .dataframe tbody tr th {\n",
       "        vertical-align: top;\n",
       "    }\n",
       "\n",
       "    .dataframe thead th {\n",
       "        text-align: right;\n",
       "    }\n",
       "</style>\n",
       "<table border=\"1\" class=\"dataframe\">\n",
       "  <thead>\n",
       "    <tr style=\"text-align: right;\">\n",
       "      <th></th>\n",
       "      <th>Date</th>\n",
       "    </tr>\n",
       "    <tr>\n",
       "      <th>COUNTY</th>\n",
       "      <th></th>\n",
       "    </tr>\n",
       "  </thead>\n",
       "  <tbody>\n",
       "    <tr>\n",
       "      <th>Arlington</th>\n",
       "      <td>720</td>\n",
       "    </tr>\n",
       "    <tr>\n",
       "      <th>Charles</th>\n",
       "      <td>712</td>\n",
       "    </tr>\n",
       "    <tr>\n",
       "      <th>Fairfax</th>\n",
       "      <td>717</td>\n",
       "    </tr>\n",
       "    <tr>\n",
       "      <th>Hampton City</th>\n",
       "      <td>716</td>\n",
       "    </tr>\n",
       "    <tr>\n",
       "      <th>Henrico</th>\n",
       "      <td>669</td>\n",
       "    </tr>\n",
       "    <tr>\n",
       "      <th>Loudoun</th>\n",
       "      <td>716</td>\n",
       "    </tr>\n",
       "    <tr>\n",
       "      <th>Norfolk City</th>\n",
       "      <td>705</td>\n",
       "    </tr>\n",
       "    <tr>\n",
       "      <th>Prince William</th>\n",
       "      <td>691</td>\n",
       "    </tr>\n",
       "    <tr>\n",
       "      <th>Richmond City</th>\n",
       "      <td>703</td>\n",
       "    </tr>\n",
       "    <tr>\n",
       "      <th>Roanoke</th>\n",
       "      <td>723</td>\n",
       "    </tr>\n",
       "    <tr>\n",
       "      <th>Rockingham</th>\n",
       "      <td>702</td>\n",
       "    </tr>\n",
       "  </tbody>\n",
       "</table>\n",
       "</div>"
      ],
      "text/plain": [
       "                Date\n",
       "COUNTY              \n",
       "Arlington        720\n",
       "Charles          712\n",
       "Fairfax          717\n",
       "Hampton City     716\n",
       "Henrico          669\n",
       "Loudoun          716\n",
       "Norfolk City     705\n",
       "Prince William   691\n",
       "Richmond City    703\n",
       "Roanoke          723\n",
       "Rockingham       702"
      ]
     },
     "execution_count": 17,
     "metadata": {},
     "output_type": "execute_result"
    }
   ],
   "source": [
    "NO2[['Date','COUNTY']].groupby('COUNTY').count()"
   ]
  },
  {
   "cell_type": "markdown",
   "metadata": {},
   "source": [
    "Henrico is only having 92% data recorded for year 2020. So we will drop it since 2020 is the year of interest"
   ]
  },
  {
   "cell_type": "code",
   "execution_count": 18,
   "metadata": {},
   "outputs": [],
   "source": [
    "NO2=NO2.drop(NO2[NO2.COUNTY=='Henrico'].index)"
   ]
  },
  {
   "cell_type": "markdown",
   "metadata": {},
   "source": [
    "#### Mean AQI value for 2017-2019"
   ]
  },
  {
   "cell_type": "code",
   "execution_count": 19,
   "metadata": {},
   "outputs": [
    {
     "data": {
      "text/html": [
       "<div>\n",
       "<style scoped>\n",
       "    .dataframe tbody tr th:only-of-type {\n",
       "        vertical-align: middle;\n",
       "    }\n",
       "\n",
       "    .dataframe tbody tr th {\n",
       "        vertical-align: top;\n",
       "    }\n",
       "\n",
       "    .dataframe thead tr th {\n",
       "        text-align: left;\n",
       "    }\n",
       "\n",
       "    .dataframe thead tr:last-of-type th {\n",
       "        text-align: right;\n",
       "    }\n",
       "</style>\n",
       "<table border=\"1\" class=\"dataframe\">\n",
       "  <thead>\n",
       "    <tr>\n",
       "      <th></th>\n",
       "      <th colspan=\"10\" halign=\"left\">DAILY_AQI_VALUE</th>\n",
       "    </tr>\n",
       "    <tr>\n",
       "      <th>COUNTY</th>\n",
       "      <th>Arlington</th>\n",
       "      <th>Charles</th>\n",
       "      <th>Fairfax</th>\n",
       "      <th>Loudoun</th>\n",
       "      <th>Prince William</th>\n",
       "      <th>Roanoke</th>\n",
       "      <th>Rockingham</th>\n",
       "      <th>Hampton City</th>\n",
       "      <th>Norfolk City</th>\n",
       "      <th>Richmond City</th>\n",
       "    </tr>\n",
       "    <tr>\n",
       "      <th>Date</th>\n",
       "      <th></th>\n",
       "      <th></th>\n",
       "      <th></th>\n",
       "      <th></th>\n",
       "      <th></th>\n",
       "      <th></th>\n",
       "      <th></th>\n",
       "      <th></th>\n",
       "      <th></th>\n",
       "      <th></th>\n",
       "    </tr>\n",
       "  </thead>\n",
       "  <tbody>\n",
       "    <tr>\n",
       "      <th>January</th>\n",
       "      <td>23.329670</td>\n",
       "      <td>11.782609</td>\n",
       "      <td>26.813187</td>\n",
       "      <td>19.078652</td>\n",
       "      <td>11.666667</td>\n",
       "      <td>14.516129</td>\n",
       "      <td>19.903226</td>\n",
       "      <td>11.311828</td>\n",
       "      <td>21.082353</td>\n",
       "      <td>24.629213</td>\n",
       "    </tr>\n",
       "    <tr>\n",
       "      <th>February</th>\n",
       "      <td>24.428571</td>\n",
       "      <td>11.678571</td>\n",
       "      <td>30.204819</td>\n",
       "      <td>19.250000</td>\n",
       "      <td>11.809524</td>\n",
       "      <td>14.523810</td>\n",
       "      <td>21.250000</td>\n",
       "      <td>11.119048</td>\n",
       "      <td>21.526316</td>\n",
       "      <td>27.424658</td>\n",
       "    </tr>\n",
       "    <tr>\n",
       "      <th>March</th>\n",
       "      <td>22.451613</td>\n",
       "      <td>11.651685</td>\n",
       "      <td>27.565217</td>\n",
       "      <td>16.666667</td>\n",
       "      <td>9.543210</td>\n",
       "      <td>11.774194</td>\n",
       "      <td>20.806452</td>\n",
       "      <td>8.870968</td>\n",
       "      <td>18.494624</td>\n",
       "      <td>26.612903</td>\n",
       "    </tr>\n",
       "    <tr>\n",
       "      <th>April</th>\n",
       "      <td>18.188889</td>\n",
       "      <td>10.775281</td>\n",
       "      <td>28.181818</td>\n",
       "      <td>10.910112</td>\n",
       "      <td>7.011236</td>\n",
       "      <td>10.755556</td>\n",
       "      <td>18.614458</td>\n",
       "      <td>6.477778</td>\n",
       "      <td>14.033333</td>\n",
       "      <td>24.733333</td>\n",
       "    </tr>\n",
       "    <tr>\n",
       "      <th>May</th>\n",
       "      <td>13.612903</td>\n",
       "      <td>10.597826</td>\n",
       "      <td>24.989247</td>\n",
       "      <td>8.387097</td>\n",
       "      <td>5.623656</td>\n",
       "      <td>8.516129</td>\n",
       "      <td>15.847059</td>\n",
       "      <td>5.483146</td>\n",
       "      <td>11.510870</td>\n",
       "      <td>19.838710</td>\n",
       "    </tr>\n",
       "    <tr>\n",
       "      <th>June</th>\n",
       "      <td>12.111111</td>\n",
       "      <td>10.137931</td>\n",
       "      <td>21.366667</td>\n",
       "      <td>6.388889</td>\n",
       "      <td>4.688889</td>\n",
       "      <td>7.875000</td>\n",
       "      <td>15.600000</td>\n",
       "      <td>5.400000</td>\n",
       "      <td>11.853933</td>\n",
       "      <td>18.288889</td>\n",
       "    </tr>\n",
       "  </tbody>\n",
       "</table>\n",
       "</div>"
      ],
      "text/plain": [
       "         DAILY_AQI_VALUE                                                  \\\n",
       "COUNTY         Arlington    Charles    Fairfax    Loudoun Prince William   \n",
       "Date                                                                       \n",
       "January        23.329670  11.782609  26.813187  19.078652      11.666667   \n",
       "February       24.428571  11.678571  30.204819  19.250000      11.809524   \n",
       "March          22.451613  11.651685  27.565217  16.666667       9.543210   \n",
       "April          18.188889  10.775281  28.181818  10.910112       7.011236   \n",
       "May            13.612903  10.597826  24.989247   8.387097       5.623656   \n",
       "June           12.111111  10.137931  21.366667   6.388889       4.688889   \n",
       "\n",
       "                                                                        \n",
       "COUNTY      Roanoke Rockingham Hampton City Norfolk City Richmond City  \n",
       "Date                                                                    \n",
       "January   14.516129  19.903226    11.311828    21.082353     24.629213  \n",
       "February  14.523810  21.250000    11.119048    21.526316     27.424658  \n",
       "March     11.774194  20.806452     8.870968    18.494624     26.612903  \n",
       "April     10.755556  18.614458     6.477778    14.033333     24.733333  \n",
       "May        8.516129  15.847059     5.483146    11.510870     19.838710  \n",
       "June       7.875000  15.600000     5.400000    11.853933     18.288889  "
      ]
     },
     "metadata": {},
     "output_type": "display_data"
    }
   ],
   "source": [
    "NO22=NO2[NO2.Date.dt.year <= 2019][['DAILY_AQI_VALUE']].groupby([NO2.Date.dt.month_name(),NO2.COUNTY],sort=False).mean().unstack()\n",
    "display(NO22)\n",
    "NO22=NO22.reset_index()"
   ]
  },
  {
   "cell_type": "markdown",
   "metadata": {},
   "source": [
    "#### Mean AQI value for 2020"
   ]
  },
  {
   "cell_type": "code",
   "execution_count": 20,
   "metadata": {},
   "outputs": [
    {
     "data": {
      "text/html": [
       "<div>\n",
       "<style scoped>\n",
       "    .dataframe tbody tr th:only-of-type {\n",
       "        vertical-align: middle;\n",
       "    }\n",
       "\n",
       "    .dataframe tbody tr th {\n",
       "        vertical-align: top;\n",
       "    }\n",
       "\n",
       "    .dataframe thead tr th {\n",
       "        text-align: left;\n",
       "    }\n",
       "\n",
       "    .dataframe thead tr:last-of-type th {\n",
       "        text-align: right;\n",
       "    }\n",
       "</style>\n",
       "<table border=\"1\" class=\"dataframe\">\n",
       "  <thead>\n",
       "    <tr>\n",
       "      <th></th>\n",
       "      <th colspan=\"10\" halign=\"left\">DAILY_AQI_VALUE</th>\n",
       "    </tr>\n",
       "    <tr>\n",
       "      <th>COUNTY</th>\n",
       "      <th>Arlington</th>\n",
       "      <th>Charles</th>\n",
       "      <th>Fairfax</th>\n",
       "      <th>Loudoun</th>\n",
       "      <th>Prince William</th>\n",
       "      <th>Roanoke</th>\n",
       "      <th>Rockingham</th>\n",
       "      <th>Hampton City</th>\n",
       "      <th>Norfolk City</th>\n",
       "      <th>Richmond City</th>\n",
       "    </tr>\n",
       "    <tr>\n",
       "      <th>Date</th>\n",
       "      <th></th>\n",
       "      <th></th>\n",
       "      <th></th>\n",
       "      <th></th>\n",
       "      <th></th>\n",
       "      <th></th>\n",
       "      <th></th>\n",
       "      <th></th>\n",
       "      <th></th>\n",
       "      <th></th>\n",
       "    </tr>\n",
       "  </thead>\n",
       "  <tbody>\n",
       "    <tr>\n",
       "      <th>January</th>\n",
       "      <td>24.193548</td>\n",
       "      <td>8.000000</td>\n",
       "      <td>25.322581</td>\n",
       "      <td>18.677419</td>\n",
       "      <td>11.548387</td>\n",
       "      <td>15.709677</td>\n",
       "      <td>20.387097</td>\n",
       "      <td>10.379310</td>\n",
       "      <td>19.064516</td>\n",
       "      <td>23.806452</td>\n",
       "    </tr>\n",
       "    <tr>\n",
       "      <th>February</th>\n",
       "      <td>24.413793</td>\n",
       "      <td>10.629630</td>\n",
       "      <td>25.965517</td>\n",
       "      <td>17.344828</td>\n",
       "      <td>10.034483</td>\n",
       "      <td>14.172414</td>\n",
       "      <td>17.758621</td>\n",
       "      <td>10.000000</td>\n",
       "      <td>17.035714</td>\n",
       "      <td>24.333333</td>\n",
       "    </tr>\n",
       "    <tr>\n",
       "      <th>March</th>\n",
       "      <td>16.551724</td>\n",
       "      <td>8.516129</td>\n",
       "      <td>27.172414</td>\n",
       "      <td>12.000000</td>\n",
       "      <td>8.064516</td>\n",
       "      <td>9.354839</td>\n",
       "      <td>15.451613</td>\n",
       "      <td>6.064516</td>\n",
       "      <td>12.806452</td>\n",
       "      <td>22.870968</td>\n",
       "    </tr>\n",
       "    <tr>\n",
       "      <th>April</th>\n",
       "      <td>14.533333</td>\n",
       "      <td>7.733333</td>\n",
       "      <td>24.500000</td>\n",
       "      <td>9.444444</td>\n",
       "      <td>4.900000</td>\n",
       "      <td>7.833333</td>\n",
       "      <td>16.384615</td>\n",
       "      <td>4.931034</td>\n",
       "      <td>13.413793</td>\n",
       "      <td>20.766667</td>\n",
       "    </tr>\n",
       "    <tr>\n",
       "      <th>May</th>\n",
       "      <td>9.064516</td>\n",
       "      <td>5.633333</td>\n",
       "      <td>18.709677</td>\n",
       "      <td>5.000000</td>\n",
       "      <td>3.709677</td>\n",
       "      <td>5.903226</td>\n",
       "      <td>14.129032</td>\n",
       "      <td>3.967742</td>\n",
       "      <td>9.225806</td>\n",
       "      <td>17.700000</td>\n",
       "    </tr>\n",
       "    <tr>\n",
       "      <th>June</th>\n",
       "      <td>8.448276</td>\n",
       "      <td>7.500000</td>\n",
       "      <td>21.366667</td>\n",
       "      <td>5.466667</td>\n",
       "      <td>3.800000</td>\n",
       "      <td>7.466667</td>\n",
       "      <td>18.115385</td>\n",
       "      <td>4.966667</td>\n",
       "      <td>10.033333</td>\n",
       "      <td>16.793103</td>\n",
       "    </tr>\n",
       "  </tbody>\n",
       "</table>\n",
       "</div>"
      ],
      "text/plain": [
       "         DAILY_AQI_VALUE                                                  \\\n",
       "COUNTY         Arlington    Charles    Fairfax    Loudoun Prince William   \n",
       "Date                                                                       \n",
       "January        24.193548   8.000000  25.322581  18.677419      11.548387   \n",
       "February       24.413793  10.629630  25.965517  17.344828      10.034483   \n",
       "March          16.551724   8.516129  27.172414  12.000000       8.064516   \n",
       "April          14.533333   7.733333  24.500000   9.444444       4.900000   \n",
       "May             9.064516   5.633333  18.709677   5.000000       3.709677   \n",
       "June            8.448276   7.500000  21.366667   5.466667       3.800000   \n",
       "\n",
       "                                                                        \n",
       "COUNTY      Roanoke Rockingham Hampton City Norfolk City Richmond City  \n",
       "Date                                                                    \n",
       "January   15.709677  20.387097    10.379310    19.064516     23.806452  \n",
       "February  14.172414  17.758621    10.000000    17.035714     24.333333  \n",
       "March      9.354839  15.451613     6.064516    12.806452     22.870968  \n",
       "April      7.833333  16.384615     4.931034    13.413793     20.766667  \n",
       "May        5.903226  14.129032     3.967742     9.225806     17.700000  \n",
       "June       7.466667  18.115385     4.966667    10.033333     16.793103  "
      ]
     },
     "metadata": {},
     "output_type": "display_data"
    }
   ],
   "source": [
    "NO23=NO2[NO2.Date.dt.year == 2020][['DAILY_AQI_VALUE']].groupby([NO2.Date.dt.month_name(),NO2.COUNTY],sort=False).mean().unstack()\n",
    "display(NO23)\n",
    "NO23=NO23.reset_index()"
   ]
  },
  {
   "cell_type": "markdown",
   "metadata": {},
   "source": [
    "#### Plotting Line Graph for both mean tables"
   ]
  },
  {
   "cell_type": "code",
   "execution_count": 21,
   "metadata": {},
   "outputs": [
    {
     "data": {
      "image/png": "[encoded data removed]",
      "text/plain": [
       "<Figure size 1440x720 with 10 Axes>"
      ]
     },
     "metadata": {
      "needs_background": "light"
     },
     "output_type": "display_data"
    }
   ],
   "source": [
    "fig, ((ax1, ax2), (ax3,ax4), (ax5,ax6), (ax7,ax8), (ax9,ax10)) = plt.subplots(5, 2, figsize=(20, 10), constrained_layout=True, sharey='col')\n",
    "\n",
    "fig.suptitle('Comparing Trend of NO2 Pollution between 2017 to 2019 & 2020', size=15)\n",
    "#For Years 2017 - 2019\n",
    "# Arlington\n",
    "ax1.plot(NO22.Date,NO22.DAILY_AQI_VALUE.Arlington,  c='g',marker='x',label='2017 to 2019')\n",
    "ax1.title.set_text('Arlington')\n",
    "\n",
    "# Charles\n",
    "ax2.plot(NO22.Date,NO22.DAILY_AQI_VALUE.Charles,  c='g',marker='x',label='2017 to 2019' )\n",
    "ax2.title.set_text('Charles')\n",
    "\n",
    "# Fairfax\n",
    "ax3.plot(NO22.Date,NO22.DAILY_AQI_VALUE.Fairfax,  c='g',marker='x',label='2017 to 2019')\n",
    "ax3.title.set_text('Fairfax')\n",
    "\n",
    "# Loudoun\n",
    "ax4.plot(NO22.Date,NO22.DAILY_AQI_VALUE.Loudoun, c='g',marker='x',label='2017 to 2019')\n",
    "ax4.title.set_text('Loudoun')\n",
    "\n",
    "# Prince William\n",
    "ax5.plot(NO22.Date,NO22.DAILY_AQI_VALUE['Prince William'], c='g',marker='x',label='2017 to 2019')\n",
    "ax5.title.set_text('Prince William')\n",
    "\n",
    "# Roanoke\n",
    "ax6.plot(NO22.Date,NO22.DAILY_AQI_VALUE.Roanoke, c='g',marker='x',label='2017 to 2019')\n",
    "ax6.title.set_text('Roanoke')\n",
    "\n",
    "# Rockingham \n",
    "ax7.plot(NO22.Date,NO22.DAILY_AQI_VALUE.Rockingham, c='g',marker='x',label='2017 to 2019')\n",
    "ax7.title.set_text('Rockingham')\n",
    "\n",
    "# Hampton \n",
    "ax8.plot(NO22.Date,NO22.DAILY_AQI_VALUE['Hampton City'], c='g',marker='x',label='2017 to 2019')\n",
    "ax8.title.set_text('Hampton')\n",
    "\n",
    "# Norfolk City \n",
    "ax9.plot(NO22.Date,NO22.DAILY_AQI_VALUE['Norfolk City'], c='g',marker='x',label='2017 to 2019')\n",
    "ax9.title.set_text('Norfolk')\n",
    "\n",
    "# Hampton \n",
    "ax10.plot(NO22.Date,NO22.DAILY_AQI_VALUE['Richmond City'], c='g',marker='x',label='2017 to 2019')\n",
    "ax10.title.set_text('Richmond')\n",
    "\n",
    "#For Year 2020\n",
    "# Arlington\n",
    "ax1.plot(NO23.Date,NO23.DAILY_AQI_VALUE.Arlington,  c='r',marker='x',label='2020')\n",
    "ax1.title.set_text('Arlington')\n",
    "\n",
    "# Charles\n",
    "ax2.plot(NO23.Date,NO23.DAILY_AQI_VALUE.Charles,  c='r',marker='x',label='2020' )\n",
    "ax2.title.set_text('Charles')\n",
    "\n",
    "# Fairfax\n",
    "ax3.plot(NO23.Date,NO23.DAILY_AQI_VALUE.Fairfax,  c='r',marker='x',label='2020')\n",
    "ax3.title.set_text('Fairfax')\n",
    "\n",
    "# Loudoun\n",
    "ax4.plot(NO23.Date,NO23.DAILY_AQI_VALUE.Loudoun, c='r',marker='x',label='2020')\n",
    "ax4.title.set_text('Loudoun')\n",
    "\n",
    "# Prince William\n",
    "ax5.plot(NO23.Date,NO23.DAILY_AQI_VALUE['Prince William'], c='r',marker='x',label='2020')\n",
    "ax5.title.set_text('Prince William')\n",
    "\n",
    "# Roanoke\n",
    "ax6.plot(NO23.Date,NO23.DAILY_AQI_VALUE.Roanoke, c='r',marker='x',label='2020')\n",
    "ax6.title.set_text('Roanoke')\n",
    "\n",
    "# Rockingham \n",
    "ax7.plot(NO23.Date,NO23.DAILY_AQI_VALUE.Rockingham, c='r',marker='x',label='2020')\n",
    "ax7.title.set_text('Rockingham')\n",
    "\n",
    "# Hampton \n",
    "ax8.plot(NO23.Date,NO23.DAILY_AQI_VALUE['Hampton City'], c='r',marker='x',label='2020')\n",
    "ax8.title.set_text('Hampton')\n",
    "\n",
    "# Norfolk City \n",
    "ax9.plot(NO23.Date,NO23.DAILY_AQI_VALUE['Norfolk City'], c='r',marker='x',label='2020')\n",
    "ax9.title.set_text('Norfolk')\n",
    "\n",
    "# Hampton \n",
    "ax10.plot(NO23.Date,NO23.DAILY_AQI_VALUE['Richmond City'], c='r',marker='x',label='2020')\n",
    "ax10.title.set_text('Richmond')\n",
    "\n",
    "ax=(ax1,ax2,ax4,ax5,ax6,ax7,ax8,ax9,ax10)\n",
    "for i in ax:\n",
    " i.legend(frameon=False,loc='upper right')\n",
    "\n",
    "ax3.legend(frameon=False,loc='lower left')\n",
    "\n",
    "plt.show()"
   ]
  },
  {
   "cell_type": "markdown",
   "metadata": {},
   "source": [
    "#### We've considered just April and May(prime lockdown period) in the below process for deriving the geomap data."
   ]
  },
  {
   "cell_type": "markdown",
   "metadata": {},
   "source": [
    "##### Mean value for years between 2019 and 2017"
   ]
  },
  {
   "cell_type": "code",
   "execution_count": 22,
   "metadata": {},
   "outputs": [
    {
     "data": {
      "text/html": [
       "<div>\n",
       "<style scoped>\n",
       "    .dataframe tbody tr th:only-of-type {\n",
       "        vertical-align: middle;\n",
       "    }\n",
       "\n",
       "    .dataframe tbody tr th {\n",
       "        vertical-align: top;\n",
       "    }\n",
       "\n",
       "    .dataframe thead tr th {\n",
       "        text-align: left;\n",
       "    }\n",
       "\n",
       "    .dataframe thead tr:last-of-type th {\n",
       "        text-align: right;\n",
       "    }\n",
       "</style>\n",
       "<table border=\"1\" class=\"dataframe\">\n",
       "  <thead>\n",
       "    <tr>\n",
       "      <th></th>\n",
       "      <th colspan=\"10\" halign=\"left\">DAILY_AQI_VALUE</th>\n",
       "    </tr>\n",
       "    <tr>\n",
       "      <th>COUNTY</th>\n",
       "      <th>Arlington</th>\n",
       "      <th>Charles</th>\n",
       "      <th>Fairfax</th>\n",
       "      <th>Loudoun</th>\n",
       "      <th>Prince William</th>\n",
       "      <th>Roanoke</th>\n",
       "      <th>Rockingham</th>\n",
       "      <th>Hampton City</th>\n",
       "      <th>Norfolk City</th>\n",
       "      <th>Richmond City</th>\n",
       "    </tr>\n",
       "    <tr>\n",
       "      <th>Date</th>\n",
       "      <th></th>\n",
       "      <th></th>\n",
       "      <th></th>\n",
       "      <th></th>\n",
       "      <th></th>\n",
       "      <th></th>\n",
       "      <th></th>\n",
       "      <th></th>\n",
       "      <th></th>\n",
       "      <th></th>\n",
       "    </tr>\n",
       "  </thead>\n",
       "  <tbody>\n",
       "    <tr>\n",
       "      <th>April</th>\n",
       "      <td>18.188889</td>\n",
       "      <td>10.775281</td>\n",
       "      <td>28.181818</td>\n",
       "      <td>10.910112</td>\n",
       "      <td>7.011236</td>\n",
       "      <td>10.755556</td>\n",
       "      <td>18.614458</td>\n",
       "      <td>6.477778</td>\n",
       "      <td>14.033333</td>\n",
       "      <td>24.733333</td>\n",
       "    </tr>\n",
       "    <tr>\n",
       "      <th>May</th>\n",
       "      <td>13.612903</td>\n",
       "      <td>10.597826</td>\n",
       "      <td>24.989247</td>\n",
       "      <td>8.387097</td>\n",
       "      <td>5.623656</td>\n",
       "      <td>8.516129</td>\n",
       "      <td>15.847059</td>\n",
       "      <td>5.483146</td>\n",
       "      <td>11.510870</td>\n",
       "      <td>19.838710</td>\n",
       "    </tr>\n",
       "  </tbody>\n",
       "</table>\n",
       "</div>"
      ],
      "text/plain": [
       "       DAILY_AQI_VALUE                                                  \\\n",
       "COUNTY       Arlington    Charles    Fairfax    Loudoun Prince William   \n",
       "Date                                                                     \n",
       "April        18.188889  10.775281  28.181818  10.910112       7.011236   \n",
       "May          13.612903  10.597826  24.989247   8.387097       5.623656   \n",
       "\n",
       "                                                                      \n",
       "COUNTY    Roanoke Rockingham Hampton City Norfolk City Richmond City  \n",
       "Date                                                                  \n",
       "April   10.755556  18.614458     6.477778    14.033333     24.733333  \n",
       "May      8.516129  15.847059     5.483146    11.510870     19.838710  "
      ]
     },
     "execution_count": 22,
     "metadata": {},
     "output_type": "execute_result"
    }
   ],
   "source": [
    "Baseline=NO2[(NO2.Date.dt.year <= 2019) & ((NO2.Date.dt.month==4) | (NO2.Date.dt.month==5)) ][['DAILY_AQI_VALUE']].groupby([NO2.Date.dt.month_name(),NO2.COUNTY],sort=False).mean().unstack()\n",
    "Baseline"
   ]
  },
  {
   "cell_type": "markdown",
   "metadata": {},
   "source": [
    "##### Mean value for 2020"
   ]
  },
  {
   "cell_type": "code",
   "execution_count": 23,
   "metadata": {},
   "outputs": [
    {
     "data": {
      "text/html": [
       "<div>\n",
       "<style scoped>\n",
       "    .dataframe tbody tr th:only-of-type {\n",
       "        vertical-align: middle;\n",
       "    }\n",
       "\n",
       "    .dataframe tbody tr th {\n",
       "        vertical-align: top;\n",
       "    }\n",
       "\n",
       "    .dataframe thead tr th {\n",
       "        text-align: left;\n",
       "    }\n",
       "\n",
       "    .dataframe thead tr:last-of-type th {\n",
       "        text-align: right;\n",
       "    }\n",
       "</style>\n",
       "<table border=\"1\" class=\"dataframe\">\n",
       "  <thead>\n",
       "    <tr>\n",
       "      <th></th>\n",
       "      <th colspan=\"10\" halign=\"left\">DAILY_AQI_VALUE</th>\n",
       "    </tr>\n",
       "    <tr>\n",
       "      <th>COUNTY</th>\n",
       "      <th>Arlington</th>\n",
       "      <th>Charles</th>\n",
       "      <th>Fairfax</th>\n",
       "      <th>Loudoun</th>\n",
       "      <th>Prince William</th>\n",
       "      <th>Roanoke</th>\n",
       "      <th>Rockingham</th>\n",
       "      <th>Hampton City</th>\n",
       "      <th>Norfolk City</th>\n",
       "      <th>Richmond City</th>\n",
       "    </tr>\n",
       "    <tr>\n",
       "      <th>Date</th>\n",
       "      <th></th>\n",
       "      <th></th>\n",
       "      <th></th>\n",
       "      <th></th>\n",
       "      <th></th>\n",
       "      <th></th>\n",
       "      <th></th>\n",
       "      <th></th>\n",
       "      <th></th>\n",
       "      <th></th>\n",
       "    </tr>\n",
       "  </thead>\n",
       "  <tbody>\n",
       "    <tr>\n",
       "      <th>April</th>\n",
       "      <td>14.533333</td>\n",
       "      <td>7.733333</td>\n",
       "      <td>24.500000</td>\n",
       "      <td>9.444444</td>\n",
       "      <td>4.900000</td>\n",
       "      <td>7.833333</td>\n",
       "      <td>16.384615</td>\n",
       "      <td>4.931034</td>\n",
       "      <td>13.413793</td>\n",
       "      <td>20.766667</td>\n",
       "    </tr>\n",
       "    <tr>\n",
       "      <th>May</th>\n",
       "      <td>9.064516</td>\n",
       "      <td>5.633333</td>\n",
       "      <td>18.709677</td>\n",
       "      <td>5.000000</td>\n",
       "      <td>3.709677</td>\n",
       "      <td>5.903226</td>\n",
       "      <td>14.129032</td>\n",
       "      <td>3.967742</td>\n",
       "      <td>9.225806</td>\n",
       "      <td>17.700000</td>\n",
       "    </tr>\n",
       "  </tbody>\n",
       "</table>\n",
       "</div>"
      ],
      "text/plain": [
       "       DAILY_AQI_VALUE                                                \\\n",
       "COUNTY       Arlington   Charles    Fairfax   Loudoun Prince William   \n",
       "Date                                                                   \n",
       "April        14.533333  7.733333  24.500000  9.444444       4.900000   \n",
       "May           9.064516  5.633333  18.709677  5.000000       3.709677   \n",
       "\n",
       "                                                                     \n",
       "COUNTY   Roanoke Rockingham Hampton City Norfolk City Richmond City  \n",
       "Date                                                                 \n",
       "April   7.833333  16.384615     4.931034    13.413793     20.766667  \n",
       "May     5.903226  14.129032     3.967742     9.225806     17.700000  "
      ]
     },
     "execution_count": 23,
     "metadata": {},
     "output_type": "execute_result"
    }
   ],
   "source": [
    "Lockdown=NO2[(NO2.Date.dt.year == 2020) & ((NO2.Date.dt.month==4) | (NO2.Date.dt.month==5)) ][['DAILY_AQI_VALUE']].groupby([NO2.Date.dt.month_name(),NO2.COUNTY],sort=False).mean().unstack()\n",
    "Lockdown"
   ]
  },
  {
   "cell_type": "markdown",
   "metadata": {},
   "source": [
    "##### Mean Difference"
   ]
  },
  {
   "cell_type": "code",
   "execution_count": 24,
   "metadata": {},
   "outputs": [
    {
     "data": {
      "text/html": [
       "<div>\n",
       "<style scoped>\n",
       "    .dataframe tbody tr th:only-of-type {\n",
       "        vertical-align: middle;\n",
       "    }\n",
       "\n",
       "    .dataframe tbody tr th {\n",
       "        vertical-align: top;\n",
       "    }\n",
       "\n",
       "    .dataframe thead tr th {\n",
       "        text-align: left;\n",
       "    }\n",
       "\n",
       "    .dataframe thead tr:last-of-type th {\n",
       "        text-align: right;\n",
       "    }\n",
       "</style>\n",
       "<table border=\"1\" class=\"dataframe\">\n",
       "  <thead>\n",
       "    <tr>\n",
       "      <th></th>\n",
       "      <th colspan=\"10\" halign=\"left\">DAILY_AQI_VALUE</th>\n",
       "    </tr>\n",
       "    <tr>\n",
       "      <th>COUNTY</th>\n",
       "      <th>Arlington</th>\n",
       "      <th>Charles</th>\n",
       "      <th>Fairfax</th>\n",
       "      <th>Loudoun</th>\n",
       "      <th>Prince William</th>\n",
       "      <th>Roanoke</th>\n",
       "      <th>Rockingham</th>\n",
       "      <th>Hampton City</th>\n",
       "      <th>Norfolk City</th>\n",
       "      <th>Richmond City</th>\n",
       "    </tr>\n",
       "    <tr>\n",
       "      <th>Date</th>\n",
       "      <th></th>\n",
       "      <th></th>\n",
       "      <th></th>\n",
       "      <th></th>\n",
       "      <th></th>\n",
       "      <th></th>\n",
       "      <th></th>\n",
       "      <th></th>\n",
       "      <th></th>\n",
       "      <th></th>\n",
       "    </tr>\n",
       "  </thead>\n",
       "  <tbody>\n",
       "    <tr>\n",
       "      <th>April</th>\n",
       "      <td>-3.655556</td>\n",
       "      <td>-3.041948</td>\n",
       "      <td>-3.681818</td>\n",
       "      <td>-1.465668</td>\n",
       "      <td>-2.111236</td>\n",
       "      <td>-2.922222</td>\n",
       "      <td>-2.229842</td>\n",
       "      <td>-1.546743</td>\n",
       "      <td>-0.619540</td>\n",
       "      <td>-3.966667</td>\n",
       "    </tr>\n",
       "    <tr>\n",
       "      <th>May</th>\n",
       "      <td>-4.548387</td>\n",
       "      <td>-4.964493</td>\n",
       "      <td>-6.279570</td>\n",
       "      <td>-3.387097</td>\n",
       "      <td>-1.913978</td>\n",
       "      <td>-2.612903</td>\n",
       "      <td>-1.718027</td>\n",
       "      <td>-1.515404</td>\n",
       "      <td>-2.285063</td>\n",
       "      <td>-2.138710</td>\n",
       "    </tr>\n",
       "  </tbody>\n",
       "</table>\n",
       "</div>"
      ],
      "text/plain": [
       "       DAILY_AQI_VALUE                                                         \\\n",
       "COUNTY       Arlington   Charles   Fairfax   Loudoun Prince William   Roanoke   \n",
       "Date                                                                            \n",
       "April        -3.655556 -3.041948 -3.681818 -1.465668      -2.111236 -2.922222   \n",
       "May          -4.548387 -4.964493 -6.279570 -3.387097      -1.913978 -2.612903   \n",
       "\n",
       "                                                           \n",
       "COUNTY Rockingham Hampton City Norfolk City Richmond City  \n",
       "Date                                                       \n",
       "April   -2.229842    -1.546743    -0.619540     -3.966667  \n",
       "May     -1.718027    -1.515404    -2.285063     -2.138710  "
      ]
     },
     "execution_count": 24,
     "metadata": {},
     "output_type": "execute_result"
    }
   ],
   "source": [
    "Impact=Lockdown-Baseline\n",
    "Impact"
   ]
  },
  {
   "cell_type": "code",
   "execution_count": 25,
   "metadata": {},
   "outputs": [
    {
     "data": {
      "text/plain": [
       "                 COUNTY        \n",
       "DAILY_AQI_VALUE  Fairfax          -4.98\n",
       "                 Arlington        -4.10\n",
       "                 Charles          -4.00\n",
       "                 Richmond City    -3.05\n",
       "                 Roanoke          -2.77\n",
       "                 Loudoun          -2.43\n",
       "                 Prince William   -2.01\n",
       "                 Rockingham       -1.97\n",
       "                 Hampton City     -1.53\n",
       "                 Norfolk City     -1.45\n",
       "dtype: float64"
      ]
     },
     "execution_count": 25,
     "metadata": {},
     "output_type": "execute_result"
    }
   ],
   "source": [
    "Impact.mean().round(2).sort_values()"
   ]
  },
  {
   "cell_type": "markdown",
   "metadata": {},
   "source": [
    "#### Below is the geo map generated using Paintmaps - an online map generating tool plotted by values from above Impact table. \n",
    "##### Note:This is only a base64 encoded image embedded as Markdown for referential purpose. Proper citation has been given in Final Report."
   ]
  },
  {
   "cell_type": "markdown",
   "metadata": {},
   "source": [
    "<img src=\"data:image/png;base64,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\">"
   ]
  },
  {
   "cell_type": "code",
   "execution_count": null,
   "metadata": {},
   "outputs": [],
   "source": []
  }
 ],
 "metadata": {
  "kernelspec": {
   "display_name": "Python 3",
   "language": "python",
   "name": "python3"
  },
  "language_info": {
   "codemirror_mode": {
    "name": "ipython",
    "version": 3
   },
   "file_extension": ".py",
   "mimetype": "text/x-python",
   "name": "python",
   "nbconvert_exporter": "python",
   "pygments_lexer": "ipython3",
   "version": "3.7.6"
  }
 },
 "nbformat": 4,
 "nbformat_minor": 4
}
